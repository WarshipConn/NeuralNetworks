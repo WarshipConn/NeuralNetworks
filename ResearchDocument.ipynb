{
 "cells": [
  {
   "cell_type": "markdown",
   "id": "7b6d36a2",
   "metadata": {},
   "source": [
    "TEST"
   ]
  },
  {
   "cell_type": "code",
   "execution_count": 1,
   "id": "a26f375a-e123-408a-aa1e-75d3d1e2090e",
   "metadata": {},
   "outputs": [],
   "source": [
    "#This function breaks down sentences into digestable chunks for the program to analyze\n",
    "\n",
    "PUNCTS = (\".\", \"?\", \"!\") #Given list of currently accepted punctuations\n",
    "\n",
    "def processSentence(sentence):\n",
    "    chunks = []\n",
    "    nextChunk = \"\"\n",
    "\n",
    "    for i in sentence:\n",
    "        if i in PUNCTS:\n",
    "            chunks.append(nextChunk)\n",
    "            nextChunk = \"\"\n",
    "\n",
    "            chunks.append(i)\n",
    "        elif i == \" \":\n",
    "            if len(nextChunk) > 0:\n",
    "                chunks.append(nextChunk)\n",
    "                nextChunk = \"\"\n",
    "        else:\n",
    "            nextChunk += i\n",
    "    \n",
    "    return chunks"
   ]
  },
  {
   "cell_type": "code",
   "execution_count": 2,
   "id": "5c2ee5a4",
   "metadata": {},
   "outputs": [],
   "source": [
    "import torch\n",
    "\n",
    "layer = torch.nn.Linear"
   ]
  },
  {
   "cell_type": "markdown",
   "id": "a2d704f4",
   "metadata": {},
   "source": [
    "Below is an example of the executed program:"
   ]
  },
  {
   "cell_type": "code",
   "execution_count": 4,
   "id": "78f10ba9",
   "metadata": {},
   "outputs": [
    {
     "name": "stdout",
     "output_type": "stream",
     "text": [
      "['The', 'quick', 'brown', 'fox', 'jumps', 'over', 'the', 'lazy', 'dog', '.']\n"
     ]
    }
   ],
   "source": [
    "sentence = \"The quick brown fox jumps over the lazy dog.\"\n",
    "\n",
    "print(processSentence(sentence))\n",
    "#['The', 'quick', 'brown', 'fox', 'jumps', 'over', 'the', 'lazy', 'dog', '.']"
   ]
  }
 ],
 "metadata": {
  "kernelspec": {
   "display_name": "Python 3 (ipykernel)",
   "language": "python",
   "name": "python3"
  },
  "language_info": {
   "codemirror_mode": {
    "name": "ipython",
    "version": 3
   },
   "file_extension": ".py",
   "mimetype": "text/x-python",
   "name": "python",
   "nbconvert_exporter": "python",
   "pygments_lexer": "ipython3",
   "version": "3.11.7"
  }
 },
 "nbformat": 4,
 "nbformat_minor": 5
}
